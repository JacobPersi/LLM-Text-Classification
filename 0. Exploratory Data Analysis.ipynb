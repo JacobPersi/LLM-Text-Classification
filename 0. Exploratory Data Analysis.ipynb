{
 "cells": [
  {
   "cell_type": "code",
   "execution_count": null,
   "metadata": {},
   "outputs": [],
   "source": [
    "import numpy as np\n",
    "import pandas as pd\n",
    "import matplotlib.pyplot as plt\n",
    "%matplotlib inline"
   ]
  },
  {
   "cell_type": "code",
   "execution_count": null,
   "metadata": {},
   "outputs": [],
   "source": [
    "# Load the CSV file into a pandas dataframe\n",
    "df = pd.read_csv('./master.csv')"
   ]
  },
  {
   "cell_type": "code",
   "execution_count": null,
   "metadata": {},
   "outputs": [],
   "source": [
    "# Find duplicate rows based on the 'Response' column\n",
    "duplicate_responses = df[df.duplicated(subset=['Response'])]\n",
    "\n",
    "# Display the duplicate rows based on the 'Response' column\n",
    "print(len(duplicate_responses), \"duplicate responses identified.\")\n",
    "if len(duplicate_responses) > 0: \n",
    "    print(duplicate_responses)"
   ]
  },
  {
   "cell_type": "code",
   "execution_count": null,
   "metadata": {},
   "outputs": [],
   "source": [
    "# Group the data by Level and Question, and count the number of occurrences of each question in each level\n",
    "response_counts = df['Level'].value_counts()\n",
    "print(response_counts)\n",
    "\n",
    "# Create a bar graph of the result\n",
    "ax = response_counts.plot(kind='bar', color=['#1F77B4', '#FF7F0E'])\n",
    "\n",
    "# Set the title and axis labels\n",
    "ax.set_title('Response Counts by Level')\n",
    "ax.set_xlabel('Level')\n",
    "ax.set_ylabel('Count')\n",
    "\n",
    "# Display the graph\n",
    "plt.show()\n"
   ]
  },
  {
   "cell_type": "code",
   "execution_count": null,
   "metadata": {},
   "outputs": [],
   "source": [
    "# Group the data by Level and Question, and count the number of occurrences of each question in each level\n",
    "question_counts = df.groupby(['Level', 'Question']).size()\n",
    "# Convert the result to a dataframe, and reset the index to make the levels and questions into columns\n",
    "question_counts_df = question_counts.reset_index(name='Count')\n",
    "\n",
    "# Pivot the dataframe to make the levels into columns and the questions into rows\n",
    "pivot_counts = question_counts_df.pivot(index='Question', columns='Level', values='Count')\n",
    "\n",
    "# Plot the result as a bar graph\n",
    "ax = pivot_counts.plot(kind='bar')\n",
    "\n",
    "# Set the title and axis labels\n",
    "ax.set_title('Response Count by Question per Level')\n",
    "ax.set_xlabel('Question')\n",
    "ax.set_ylabel('# of Responses')\n",
    "\n",
    "# Set the Y axis scale\n",
    "ax.set_ylim([35, 42])\n",
    "\n",
    "# Move the legend outside of the graph\n",
    "ax.legend(loc='center left', bbox_to_anchor=(1.0, 0.5))\n",
    "\n",
    "# Display the graph\n",
    "plt.show()"
   ]
  },
  {
   "cell_type": "code",
   "execution_count": null,
   "metadata": {},
   "outputs": [],
   "source": [
    "# Define a function to count the number of words in a string\n",
    "def count_words(text):\n",
    "    return len(text.split())\n",
    "\n",
    "# Apply the function to the \"Response\" column and create a new column \"Response Length\"\n",
    "df['Response Length'] = df['Response'].apply(count_words)\n",
    "\n",
    "# Group the data by Level and Question, and calculate the mean response length for each group\n",
    "mean_response_lengths = df.groupby(['Level', 'Question'])['Response Length'].mean()\n",
    "\n",
    "# Convert the result to a dataframe, and reset the index to make the levels and questions into columns\n",
    "mean_response_lengths_df = mean_response_lengths.reset_index(name='Mean Response Length')\n",
    "\n",
    "# Pivot the dataframe to make the levels into columns and the questions into rows\n",
    "pivot_lengths = mean_response_lengths_df.pivot(index='Question', columns='Level', values='Mean Response Length')\n",
    "\n",
    "# Plot the result as a bar graph\n",
    "ax = pivot_lengths.plot(kind='bar')\n",
    "\n",
    "# Set the title and axis labels\n",
    "ax.set_title('Response Length by Question per Level')\n",
    "ax.set_xlabel('Question')\n",
    "ax.set_ylabel('Mean Response Length\\n(Word Count)')\n",
    "\n",
    "\n",
    "# Set the Y axis scale\n",
    "ax.set_ylim([30, 60])\n",
    "\n",
    "# Move the legend outside of the graph\n",
    "ax.legend(loc='center left', bbox_to_anchor=(1.0, 0.5))\n",
    "\n",
    "# Display the graph\n",
    "plt.show()"
   ]
  }
 ],
 "metadata": {
  "kernelspec": {
   "display_name": "Python 3",
   "language": "python",
   "name": "python3"
  },
  "language_info": {
   "codemirror_mode": {
    "name": "ipython",
    "version": 3
   },
   "file_extension": ".py",
   "mimetype": "text/x-python",
   "name": "python",
   "nbconvert_exporter": "python",
   "pygments_lexer": "ipython3",
   "version": "3.10.8"
  },
  "orig_nbformat": 4
 },
 "nbformat": 4,
 "nbformat_minor": 2
}
